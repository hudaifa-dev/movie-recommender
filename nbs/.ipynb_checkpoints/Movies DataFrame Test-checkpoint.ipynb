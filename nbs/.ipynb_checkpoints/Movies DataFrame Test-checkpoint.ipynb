{
 "cells": [
  {
   "cell_type": "code",
   "execution_count": 1,
   "metadata": {},
   "outputs": [],
   "source": [
    "import setup_django\n",
    "\n",
    "setup_django.init()\n"
   ]
  },
  {
   "cell_type": "code",
   "execution_count": 2,
   "metadata": {},
   "outputs": [
    {
     "data": {
      "text/plain": [
       "<MovieQuerySet [{'title': 'Four Rooms', 'release_date': datetime.date(1995, 12, 9), 'rating_avg': Decimal('3.80'), 'rating_count': 5}, {'title': 'Judgment Night', 'release_date': datetime.date(1993, 10, 15), 'rating_avg': Decimal('2.80'), 'rating_count': 5}, {'title': 'Star Wars', 'release_date': datetime.date(1977, 5, 25), 'rating_avg': Decimal('3.67'), 'rating_count': 6}, {'title': 'Forrest Gump', 'release_date': datetime.date(1994, 7, 6), 'rating_avg': Decimal('2.75'), 'rating_count': 4}, {'title': 'Citizen Kane', 'release_date': datetime.date(1941, 4, 30), 'rating_avg': Decimal('3.50'), 'rating_count': 2}, {'title': '2001: A Space Odyssey', 'release_date': datetime.date(1968, 4, 10), 'rating_avg': Decimal('2.67'), 'rating_count': 6}, {'title': 'Twelve Monkeys', 'release_date': datetime.date(1995, 12, 29), 'rating_avg': Decimal('1.80'), 'rating_count': 5}, {'title': 'Before Sunrise', 'release_date': datetime.date(1995, 1, 27), 'rating_avg': Decimal('3.43'), 'rating_count': 7}, {'title': 'Blade Runner', 'release_date': datetime.date(1982, 6, 25), 'rating_avg': Decimal('2.50'), 'rating_count': 4}, {'title': 'Leon: The Professional', 'release_date': datetime.date(1994, 9, 14), 'rating_avg': Decimal('3.75'), 'rating_count': 4}, {'title': 'Taxi Driver', 'release_date': datetime.date(1976, 2, 7), 'rating_avg': Decimal('4.00'), 'rating_count': 4}, {'title': 'Three Colors: Blue', 'release_date': datetime.date(1993, 1, 10), 'rating_avg': Decimal('4.00'), 'rating_count': 5}, {'title': 'Three Colors: White', 'release_date': datetime.date(1994, 1, 26), 'rating_avg': Decimal('1.25'), 'rating_count': 4}, {'title': 'Three Colors: Red', 'release_date': datetime.date(1994, 5, 27), 'rating_avg': Decimal('3.20'), 'rating_count': 5}, {'title': 'Pretty Woman', 'release_date': datetime.date(1990, 3, 23), 'rating_avg': Decimal('1.00'), 'rating_count': 2}, {'title': 'Maybe... Maybe Not', 'release_date': datetime.date(1994, 10, 5), 'rating_avg': Decimal('2.80'), 'rating_count': 5}, {'title': \"Breakfast at Tiffany's\", 'release_date': datetime.date(1961, 10, 5), 'rating_avg': Decimal('2.75'), 'rating_count': 4}, {'title': '20,000 Leagues Under the Sea', 'release_date': datetime.date(1954, 12, 23), 'rating_avg': Decimal('2.67'), 'rating_count': 3}, {'title': 'Blown Away', 'release_date': datetime.date(1994, 7, 1), 'rating_avg': Decimal('3.00'), 'rating_count': 5}, {'title': 'Star Trek: Generations', 'release_date': datetime.date(1994, 11, 17), 'rating_avg': Decimal('3.50'), 'rating_count': 2}, '...(remaining elements truncated)...']>"
      ]
     },
     "execution_count": 2,
     "metadata": {},
     "output_type": "execute_result"
    }
   ],
   "source": [
    "from movies.models import Movie\n",
    "qs = Movie.objects.all().values('title', 'release_date', 'rating_avg', 'rating_count')\n",
    "qs"
   ]
  },
  {
   "cell_type": "code",
   "execution_count": 3,
   "metadata": {},
   "outputs": [],
   "source": [
    "import pandas as pd"
   ]
  },
  {
   "cell_type": "code",
   "execution_count": 4,
   "metadata": {},
   "outputs": [
    {
     "data": {
      "text/html": [
       "<div>\n",
       "<style scoped>\n",
       "    .dataframe tbody tr th:only-of-type {\n",
       "        vertical-align: middle;\n",
       "    }\n",
       "\n",
       "    .dataframe tbody tr th {\n",
       "        vertical-align: top;\n",
       "    }\n",
       "\n",
       "    .dataframe thead th {\n",
       "        text-align: right;\n",
       "    }\n",
       "</style>\n",
       "<table border=\"1\" class=\"dataframe\">\n",
       "  <thead>\n",
       "    <tr style=\"text-align: right;\">\n",
       "      <th></th>\n",
       "      <th>title</th>\n",
       "      <th>release_date</th>\n",
       "      <th>rating_avg</th>\n",
       "      <th>rating_count</th>\n",
       "    </tr>\n",
       "  </thead>\n",
       "  <tbody>\n",
       "    <tr>\n",
       "      <th>0</th>\n",
       "      <td>Four Rooms</td>\n",
       "      <td>1995-12-09</td>\n",
       "      <td>3.80</td>\n",
       "      <td>5</td>\n",
       "    </tr>\n",
       "    <tr>\n",
       "      <th>1</th>\n",
       "      <td>Judgment Night</td>\n",
       "      <td>1993-10-15</td>\n",
       "      <td>2.80</td>\n",
       "      <td>5</td>\n",
       "    </tr>\n",
       "    <tr>\n",
       "      <th>2</th>\n",
       "      <td>Star Wars</td>\n",
       "      <td>1977-05-25</td>\n",
       "      <td>3.67</td>\n",
       "      <td>6</td>\n",
       "    </tr>\n",
       "    <tr>\n",
       "      <th>3</th>\n",
       "      <td>Forrest Gump</td>\n",
       "      <td>1994-07-06</td>\n",
       "      <td>2.75</td>\n",
       "      <td>4</td>\n",
       "    </tr>\n",
       "    <tr>\n",
       "      <th>4</th>\n",
       "      <td>Citizen Kane</td>\n",
       "      <td>1941-04-30</td>\n",
       "      <td>3.50</td>\n",
       "      <td>2</td>\n",
       "    </tr>\n",
       "    <tr>\n",
       "      <th>5</th>\n",
       "      <td>2001: A Space Odyssey</td>\n",
       "      <td>1968-04-10</td>\n",
       "      <td>2.67</td>\n",
       "      <td>6</td>\n",
       "    </tr>\n",
       "    <tr>\n",
       "      <th>6</th>\n",
       "      <td>Twelve Monkeys</td>\n",
       "      <td>1995-12-29</td>\n",
       "      <td>1.80</td>\n",
       "      <td>5</td>\n",
       "    </tr>\n",
       "    <tr>\n",
       "      <th>7</th>\n",
       "      <td>Before Sunrise</td>\n",
       "      <td>1995-01-27</td>\n",
       "      <td>3.43</td>\n",
       "      <td>7</td>\n",
       "    </tr>\n",
       "    <tr>\n",
       "      <th>8</th>\n",
       "      <td>Blade Runner</td>\n",
       "      <td>1982-06-25</td>\n",
       "      <td>2.50</td>\n",
       "      <td>4</td>\n",
       "    </tr>\n",
       "    <tr>\n",
       "      <th>9</th>\n",
       "      <td>Leon: The Professional</td>\n",
       "      <td>1994-09-14</td>\n",
       "      <td>3.75</td>\n",
       "      <td>4</td>\n",
       "    </tr>\n",
       "  </tbody>\n",
       "</table>\n",
       "</div>"
      ],
      "text/plain": [
       "                    title release_date rating_avg  rating_count\n",
       "0              Four Rooms   1995-12-09       3.80             5\n",
       "1          Judgment Night   1993-10-15       2.80             5\n",
       "2               Star Wars   1977-05-25       3.67             6\n",
       "3            Forrest Gump   1994-07-06       2.75             4\n",
       "4            Citizen Kane   1941-04-30       3.50             2\n",
       "5   2001: A Space Odyssey   1968-04-10       2.67             6\n",
       "6          Twelve Monkeys   1995-12-29       1.80             5\n",
       "7          Before Sunrise   1995-01-27       3.43             7\n",
       "8            Blade Runner   1982-06-25       2.50             4\n",
       "9  Leon: The Professional   1994-09-14       3.75             4"
      ]
     },
     "execution_count": 4,
     "metadata": {},
     "output_type": "execute_result"
    }
   ],
   "source": [
    "df = pd.DataFrame(qs)\n",
    "df.head(n=10)"
   ]
  },
  {
   "cell_type": "code",
   "execution_count": null,
   "metadata": {},
   "outputs": [],
   "source": []
  }
 ],
 "metadata": {
  "kernelspec": {
   "display_name": "Python 3 (ipykernel)",
   "language": "python",
   "name": "python3"
  },
  "language_info": {
   "codemirror_mode": {
    "name": "ipython",
    "version": 3
   },
   "file_extension": ".py",
   "mimetype": "text/x-python",
   "name": "python",
   "nbconvert_exporter": "python",
   "pygments_lexer": "ipython3",
   "version": "3.11.3"
  }
 },
 "nbformat": 4,
 "nbformat_minor": 2
}
